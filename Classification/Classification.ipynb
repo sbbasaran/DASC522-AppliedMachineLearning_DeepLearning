{
 "cells": [
  {
   "cell_type": "code",
   "execution_count": 1,
   "id": "b805e4ca",
   "metadata": {},
   "outputs": [
    {
     "name": "stderr",
     "output_type": "stream",
     "text": [
      "/Users/ideakadikoy/Desktop/anaconda3/lib/python3.8/site-packages/scipy/__init__.py:138: UserWarning: A NumPy version >=1.16.5 and <1.23.0 is required for this version of SciPy (detected version 1.23.3)\n",
      "  warnings.warn(f\"A NumPy version >={np_minversion} and <{np_maxversion} is required for this version of \"\n"
     ]
    }
   ],
   "source": [
    "import numpy as np\n",
    "import matplotlib.pyplot as plt\n",
    "import pandas as pd\n",
    "import seaborn as sns; sns.set()"
   ]
  },
  {
   "cell_type": "code",
   "execution_count": 2,
   "id": "f8711c17",
   "metadata": {},
   "outputs": [],
   "source": [
    "from sklearn.datasets import fetch_20newsgroups\n",
    "\n",
    "categories = [\"alt.atheism\",\n",
    "             \"talk.religion.misc\"]\n",
    "\n",
    "data = fetch_20newsgroups(subset= \"train\", categories=categories)\n",
    "\n",
    "X1 = data['data']\n",
    "y = data['target']"
   ]
  },
  {
   "cell_type": "code",
   "execution_count": 3,
   "id": "f89cd45c",
   "metadata": {},
   "outputs": [
    {
     "name": "stdout",
     "output_type": "stream",
     "text": [
      ".. _20newsgroups_dataset:\n",
      "\n",
      "The 20 newsgroups text dataset\n",
      "------------------------------\n",
      "\n",
      "The 20 newsgroups dataset comprises around 18000 newsgroups posts on\n",
      "20 topics split in two subsets: one for training (or development)\n",
      "and the other one for testing (or for performance evaluation). The split\n",
      "between the train and test set is based upon a messages posted before\n",
      "and after a specific date.\n",
      "\n",
      "This module contains two loaders. The first one,\n",
      ":func:`sklearn.datasets.fetch_20newsgroups`,\n",
      "returns a list of the raw texts that can be fed to text feature\n",
      "extractors such as :class:`~sklearn.feature_extraction.text.CountVectorizer`\n",
      "with custom parameters so as to extract feature vectors.\n",
      "The second one, :func:`sklearn.datasets.fetch_20newsgroups_vectorized`,\n",
      "returns ready-to-use features, i.e., it is not necessary to use a feature\n",
      "extractor.\n",
      "\n",
      "**Data Set Characteristics:**\n",
      "\n",
      "    =================   ==========\n",
      "    Classes                     20\n",
      "    Samples total            18846\n",
      "    Dimensionality               1\n",
      "    Features                  text\n",
      "    =================   ==========\n",
      "\n",
      "Usage\n",
      "~~~~~\n",
      "\n",
      "The :func:`sklearn.datasets.fetch_20newsgroups` function is a data\n",
      "fetching / caching functions that downloads the data archive from\n",
      "the original `20 newsgroups website`_, extracts the archive contents\n",
      "in the ``~/scikit_learn_data/20news_home`` folder and calls the\n",
      ":func:`sklearn.datasets.load_files` on either the training or\n",
      "testing set folder, or both of them::\n",
      "\n",
      "  >>> from sklearn.datasets import fetch_20newsgroups\n",
      "  >>> newsgroups_train = fetch_20newsgroups(subset='train')\n",
      "\n",
      "  >>> from pprint import pprint\n",
      "  >>> pprint(list(newsgroups_train.target_names))\n",
      "  ['alt.atheism',\n",
      "   'comp.graphics',\n",
      "   'comp.os.ms-windows.misc',\n",
      "   'comp.sys.ibm.pc.hardware',\n",
      "   'comp.sys.mac.hardware',\n",
      "   'comp.windows.x',\n",
      "   'misc.forsale',\n",
      "   'rec.autos',\n",
      "   'rec.motorcycles',\n",
      "   'rec.sport.baseball',\n",
      "   'rec.sport.hockey',\n",
      "   'sci.crypt',\n",
      "   'sci.electronics',\n",
      "   'sci.med',\n",
      "   'sci.space',\n",
      "   'soc.religion.christian',\n",
      "   'talk.politics.guns',\n",
      "   'talk.politics.mideast',\n",
      "   'talk.politics.misc',\n",
      "   'talk.religion.misc']\n",
      "\n",
      "The real data lies in the ``filenames`` and ``target`` attributes. The target\n",
      "attribute is the integer index of the category::\n",
      "\n",
      "  >>> newsgroups_train.filenames.shape\n",
      "  (11314,)\n",
      "  >>> newsgroups_train.target.shape\n",
      "  (11314,)\n",
      "  >>> newsgroups_train.target[:10]\n",
      "  array([ 7,  4,  4,  1, 14, 16, 13,  3,  2,  4])\n",
      "\n",
      "It is possible to load only a sub-selection of the categories by passing the\n",
      "list of the categories to load to the\n",
      ":func:`sklearn.datasets.fetch_20newsgroups` function::\n",
      "\n",
      "  >>> cats = ['alt.atheism', 'sci.space']\n",
      "  >>> newsgroups_train = fetch_20newsgroups(subset='train', categories=cats)\n",
      "\n",
      "  >>> list(newsgroups_train.target_names)\n",
      "  ['alt.atheism', 'sci.space']\n",
      "  >>> newsgroups_train.filenames.shape\n",
      "  (1073,)\n",
      "  >>> newsgroups_train.target.shape\n",
      "  (1073,)\n",
      "  >>> newsgroups_train.target[:10]\n",
      "  array([0, 1, 1, 1, 0, 1, 1, 0, 0, 0])\n",
      "\n",
      "Converting text to vectors\n",
      "~~~~~~~~~~~~~~~~~~~~~~~~~~\n",
      "\n",
      "In order to feed predictive or clustering models with the text data,\n",
      "one first need to turn the text into vectors of numerical values suitable\n",
      "for statistical analysis. This can be achieved with the utilities of the\n",
      "``sklearn.feature_extraction.text`` as demonstrated in the following\n",
      "example that extract `TF-IDF`_ vectors of unigram tokens\n",
      "from a subset of 20news::\n",
      "\n",
      "  >>> from sklearn.feature_extraction.text import TfidfVectorizer\n",
      "  >>> categories = ['alt.atheism', 'talk.religion.misc',\n",
      "  ...               'comp.graphics', 'sci.space']\n",
      "  >>> newsgroups_train = fetch_20newsgroups(subset='train',\n",
      "  ...                                       categories=categories)\n",
      "  >>> vectorizer = TfidfVectorizer()\n",
      "  >>> vectors = vectorizer.fit_transform(newsgroups_train.data)\n",
      "  >>> vectors.shape\n",
      "  (2034, 34118)\n",
      "\n",
      "The extracted TF-IDF vectors are very sparse, with an average of 159 non-zero\n",
      "components by sample in a more than 30000-dimensional space\n",
      "(less than .5% non-zero features)::\n",
      "\n",
      "  >>> vectors.nnz / float(vectors.shape[0])\n",
      "  159.01327...\n",
      "\n",
      ":func:`sklearn.datasets.fetch_20newsgroups_vectorized` is a function which \n",
      "returns ready-to-use token counts features instead of file names.\n",
      "\n",
      ".. _`20 newsgroups website`: http://people.csail.mit.edu/jrennie/20Newsgroups/\n",
      ".. _`TF-IDF`: https://en.wikipedia.org/wiki/Tf-idf\n",
      "\n",
      "\n",
      "Filtering text for more realistic training\n",
      "~~~~~~~~~~~~~~~~~~~~~~~~~~~~~~~~~~~~~~~~~~\n",
      "\n",
      "It is easy for a classifier to overfit on particular things that appear in the\n",
      "20 Newsgroups data, such as newsgroup headers. Many classifiers achieve very\n",
      "high F-scores, but their results would not generalize to other documents that\n",
      "aren't from this window of time.\n",
      "\n",
      "For example, let's look at the results of a multinomial Naive Bayes classifier,\n",
      "which is fast to train and achieves a decent F-score::\n",
      "\n",
      "  >>> from sklearn.naive_bayes import MultinomialNB\n",
      "  >>> from sklearn import metrics\n",
      "  >>> newsgroups_test = fetch_20newsgroups(subset='test',\n",
      "  ...                                      categories=categories)\n",
      "  >>> vectors_test = vectorizer.transform(newsgroups_test.data)\n",
      "  >>> clf = MultinomialNB(alpha=.01)\n",
      "  >>> clf.fit(vectors, newsgroups_train.target)\n",
      "  MultinomialNB(alpha=0.01, class_prior=None, fit_prior=True)\n",
      "\n",
      "  >>> pred = clf.predict(vectors_test)\n",
      "  >>> metrics.f1_score(newsgroups_test.target, pred, average='macro')\n",
      "  0.88213...\n",
      "\n",
      "(The example :ref:`sphx_glr_auto_examples_text_plot_document_classification_20newsgroups.py` shuffles\n",
      "the training and test data, instead of segmenting by time, and in that case\n",
      "multinomial Naive Bayes gets a much higher F-score of 0.88. Are you suspicious\n",
      "yet of what's going on inside this classifier?)\n",
      "\n",
      "Let's take a look at what the most informative features are:\n",
      "\n",
      "  >>> import numpy as np\n",
      "  >>> def show_top10(classifier, vectorizer, categories):\n",
      "  ...     feature_names = np.asarray(vectorizer.get_feature_names())\n",
      "  ...     for i, category in enumerate(categories):\n",
      "  ...         top10 = np.argsort(classifier.coef_[i])[-10:]\n",
      "  ...         print(\"%s: %s\" % (category, \" \".join(feature_names[top10])))\n",
      "  ...\n",
      "  >>> show_top10(clf, vectorizer, newsgroups_train.target_names)\n",
      "  alt.atheism: edu it and in you that is of to the\n",
      "  comp.graphics: edu in graphics it is for and of to the\n",
      "  sci.space: edu it that is in and space to of the\n",
      "  talk.religion.misc: not it you in is that and to of the\n",
      "\n",
      "\n",
      "You can now see many things that these features have overfit to:\n",
      "\n",
      "- Almost every group is distinguished by whether headers such as\n",
      "  ``NNTP-Posting-Host:`` and ``Distribution:`` appear more or less often.\n",
      "- Another significant feature involves whether the sender is affiliated with\n",
      "  a university, as indicated either by their headers or their signature.\n",
      "- The word \"article\" is a significant feature, based on how often people quote\n",
      "  previous posts like this: \"In article [article ID], [name] <[e-mail address]>\n",
      "  wrote:\"\n",
      "- Other features match the names and e-mail addresses of particular people who\n",
      "  were posting at the time.\n",
      "\n",
      "With such an abundance of clues that distinguish newsgroups, the classifiers\n",
      "barely have to identify topics from text at all, and they all perform at the\n",
      "same high level.\n",
      "\n",
      "For this reason, the functions that load 20 Newsgroups data provide a\n",
      "parameter called **remove**, telling it what kinds of information to strip out\n",
      "of each file. **remove** should be a tuple containing any subset of\n",
      "``('headers', 'footers', 'quotes')``, telling it to remove headers, signature\n",
      "blocks, and quotation blocks respectively.\n",
      "\n",
      "  >>> newsgroups_test = fetch_20newsgroups(subset='test',\n",
      "  ...                                      remove=('headers', 'footers', 'quotes'),\n",
      "  ...                                      categories=categories)\n",
      "  >>> vectors_test = vectorizer.transform(newsgroups_test.data)\n",
      "  >>> pred = clf.predict(vectors_test)\n",
      "  >>> metrics.f1_score(pred, newsgroups_test.target, average='macro')\n",
      "  0.77310...\n",
      "\n",
      "This classifier lost over a lot of its F-score, just because we removed\n",
      "metadata that has little to do with topic classification.\n",
      "It loses even more if we also strip this metadata from the training data:\n",
      "\n",
      "  >>> newsgroups_train = fetch_20newsgroups(subset='train',\n",
      "  ...                                       remove=('headers', 'footers', 'quotes'),\n",
      "  ...                                       categories=categories)\n",
      "  >>> vectors = vectorizer.fit_transform(newsgroups_train.data)\n",
      "  >>> clf = MultinomialNB(alpha=.01)\n",
      "  >>> clf.fit(vectors, newsgroups_train.target)\n",
      "  MultinomialNB(alpha=0.01, class_prior=None, fit_prior=True)\n",
      "\n",
      "  >>> vectors_test = vectorizer.transform(newsgroups_test.data)\n",
      "  >>> pred = clf.predict(vectors_test)\n",
      "  >>> metrics.f1_score(newsgroups_test.target, pred, average='macro')\n",
      "  0.76995...\n",
      "\n",
      "Some other classifiers cope better with this harder version of the task. Try\n",
      "running :ref:`sphx_glr_auto_examples_model_selection_grid_search_text_feature_extraction.py` with and without\n",
      "the ``--filter`` option to compare the results.\n",
      "\n",
      ".. topic:: Recommendation\n",
      "\n",
      "  When evaluating text classifiers on the 20 Newsgroups data, you\n",
      "  should strip newsgroup-related metadata. In scikit-learn, you can do this by\n",
      "  setting ``remove=('headers', 'footers', 'quotes')``. The F-score will be\n",
      "  lower because it is more realistic.\n",
      "\n",
      ".. topic:: Examples\n",
      "\n",
      "   * :ref:`sphx_glr_auto_examples_model_selection_grid_search_text_feature_extraction.py`\n",
      "\n",
      "   * :ref:`sphx_glr_auto_examples_text_plot_document_classification_20newsgroups.py`\n",
      "\n"
     ]
    }
   ],
   "source": [
    "print(data.DESCR)"
   ]
  },
  {
   "cell_type": "code",
   "execution_count": 4,
   "id": "8ee8e495",
   "metadata": {},
   "outputs": [
    {
     "name": "stdout",
     "output_type": "stream",
     "text": [
      "Category: alt.atheism\n",
      "From: west@next02cville.wam.umd.edu (Stilgar)\n",
      "Subject: Re: Gospel Dating\n",
      "Nntp-Posting-Host: next15csc.wam.umd.edu\n",
      "Reply-To: west@next02.wam.umd.edu\n",
      "Organization: Workstations at Maryland, University of Maryland, College Park\n",
      "Lines: 35\n",
      "\n",
      "In article <kmr4.1433.734039535@po.CWRU.edu> kmr4@po.CWRU.edu (Keith M.  \n",
      "Ryan) writes:\n",
      "> In article <1993Apr5.163050.13308@wam.umd.edu>  \n",
      "west@next02cville.wam.umd.edu (Stilgar) writes:\n",
      "> >In article <kmr4.1422.733983061@po.CWRU.edu> kmr4@po.CWRU.edu (Keith M.  \n",
      "> >Ryan) writes:\n",
      "> >> In article <1993Apr5.025924.11361@wam.umd.edu>  \n",
      "> >west@next02cville.wam.umd.edu (Stilgar) writes:\n",
      "> >> \n",
      "> >> >THE ILLIAD IS THE UNDISPUTED WORD OF GOD(tm)    *prove me wrong*\n",
      "> >> \n",
      "> >> \tI dispute it.\n",
      "> >> \n",
      "> >> \tErgo: by counter-example: you are proven wrong.\n",
      "> >\n",
      "> >\tI dispute your counter-example\n",
      "> >\n",
      "> >\tErgo: by counter-counter-example: you are wrong and\n",
      "> >\tI am right so nanny-nanny-boo-boo TBBBBBBBTTTTTTHHHHH\n",
      "> \n",
      "> \tNo. The premis stated that it was undisputed. \n",
      "> \n",
      "\n",
      "Fine... THE ILLIAD IS THE WORD OF GOD(tm)  (disputed or not, it is)\n",
      "\n",
      "Dispute that.  It won't matter.  Prove me wrong.\n",
      "\n",
      "Brian West\n",
      "--\n",
      "THIS IS NOT A SIG FILE            *    -\"To the Earth, we have been\n",
      "THIS IS NOT A SIG FILE            *     here but for the blink of an\n",
      "OK, SO IT'S A SIG FILE            *     eye, if we were gone tomorrow, \n",
      "posted by west@wam.umd.edu        *     we would not be missed.\"-  \n",
      "who doesn't care who knows it.    *        (Jurassic Park) \n",
      "** DICLAIMER: I said this, I meant this, nobody made me do it.**\n",
      "\n"
     ]
    }
   ],
   "source": [
    "ind = np.random.randint(len(X1))\n",
    "print(\"Category:\",categories[y[ind]])\n",
    "print(X1[ind])"
   ]
  },
  {
   "cell_type": "code",
   "execution_count": 5,
   "id": "757e9b26",
   "metadata": {},
   "outputs": [
    {
     "name": "stdout",
     "output_type": "stream",
     "text": [
      "Number of messages: 857\n"
     ]
    }
   ],
   "source": [
    "print(\"Number of messages:\", len(X1))"
   ]
  },
  {
   "cell_type": "code",
   "execution_count": 6,
   "id": "37c916f0",
   "metadata": {},
   "outputs": [],
   "source": [
    "import matplotlib as mpl\n",
    "mpl.rcParams['figure.dpi']= 125"
   ]
  },
  {
   "cell_type": "code",
   "execution_count": 7,
   "id": "525be3e8",
   "metadata": {},
   "outputs": [
    {
     "data": {
      "image/png": "[encoded data removed]",
      "text/plain": [
       "<Figure size 500x500 with 1 Axes>"
      ]
     },
     "metadata": {},
     "output_type": "display_data"
    }
   ],
   "source": [
    "# Class Balance:\n",
    "unique, counts = np.unique(y, return_counts=True)\n",
    "plt.figure(figsize=(4,4))\n",
    "plt.bar(unique,counts/len(y))\n",
    "plt.xticks(unique,categories)\n",
    "plt.title(\"Class Ratios\")\n",
    "plt.show()"
   ]
  },
  {
   "cell_type": "code",
   "execution_count": 8,
   "id": "9472e4e2",
   "metadata": {},
   "outputs": [],
   "source": [
    "from sklearn.feature_extraction.text import CountVectorizer, TfidfVectorizer\n",
    "\n",
    "tfidf = TfidfVectorizer()\n",
    "\n",
    "X = tfidf.fit_transform(X1)"
   ]
  },
  {
   "cell_type": "code",
   "execution_count": 52,
   "id": "bc21e460",
   "metadata": {},
   "outputs": [
    {
     "name": "stdout",
     "output_type": "stream",
     "text": [
      "(penalty='l2', *, dual=False, tol=0.0001, C=1.0, fit_intercept=True, intercept_scaling=1, class_weight=None, random_state=None, solver='lbfgs', max_iter=100, multi_class='auto', verbose=0, warm_start=False, n_jobs=None, l1_ratio=None)\n",
      "(*, C=1.0, kernel='rbf', degree=3, gamma='scale', coef0=0.0, shrinking=True, probability=False, tol=0.001, cache_size=200, class_weight=None, verbose=False, max_iter=-1, decision_function_shape='ovr', break_ties=False, random_state=None)\n"
     ]
    }
   ],
   "source": [
    "from sklearn.linear_model import LogisticRegression\n",
    "from sklearn.neighbors import KNeighborsClassifier\n",
    "from sklearn.svm import SVC\n",
    "\n",
    "\n",
    "from inspect import signature\n",
    "\n",
    "print(signature(LogisticRegression))\n",
    "print(signature(SVC))"
   ]
  },
  {
   "cell_type": "code",
   "execution_count": 53,
   "id": "a90fc13f",
   "metadata": {},
   "outputs": [
    {
     "name": "stdout",
     "output_type": "stream",
     "text": [
      "(857, 18089)\n",
      "(857,)\n",
      "(857, 18089)\n",
      "(857,)\n"
     ]
    }
   ],
   "source": [
    "# Logistic Regression\n",
    "\n",
    "logregModel = LogisticRegression(multi_class = \"auto\", \n",
    "                                 solver = \"lbfgs\", \n",
    "                                 max_iter = 1000) \n",
    "print(X.shape)\n",
    "\n",
    "print(y.shape)\n",
    "\n",
    "\n",
    "\n",
    "# Support Vector Machine\n",
    "\n",
    "svcModel = SVC(gamma = \"auto\",\n",
    "               kernel= \"linear\",\n",
    "               C = 1.0)\n",
    "               \n",
    "print(X.shape)\n",
    "\n",
    "print(y.shape)"
   ]
  },
  {
   "cell_type": "code",
   "execution_count": 54,
   "id": "46217827",
   "metadata": {},
   "outputs": [
    {
     "data": {
      "text/plain": [
       "SVC(gamma='auto', kernel='linear')"
      ]
     },
     "execution_count": 54,
     "metadata": {},
     "output_type": "execute_result"
    }
   ],
   "source": [
    "logregModel.fit(X, y)\n",
    "svcModel.fit(X, y)"
   ]
  },
  {
   "cell_type": "code",
   "execution_count": 57,
   "id": "172ec2e0",
   "metadata": {},
   "outputs": [
    {
     "name": "stdout",
     "output_type": "stream",
     "text": [
      "Logistic Regression Scores: 0.9859976662777129\n",
      "Support Vector Machine Scores: 0.9964994165694282\n"
     ]
    }
   ],
   "source": [
    "from sklearn.metrics import accuracy_score\n",
    "\n",
    "\n",
    "ypred = logregModel.predict(X)\n",
    "print(\"Logistic Regression Scores:\",accuracy_score(y, ypred))\n",
    "\n",
    "\n",
    "from sklearn.metrics import accuracy_score\n",
    "ypred = svcModel.predict(X)\n",
    "print(\"Support Vector Machine Scores:\",accuracy_score(y, ypred))"
   ]
  },
  {
   "cell_type": "markdown",
   "id": "d1d228fc",
   "metadata": {},
   "source": [
    "## Train_Test_Split"
   ]
  },
  {
   "cell_type": "code",
   "execution_count": 58,
   "id": "0f96309d",
   "metadata": {},
   "outputs": [],
   "source": [
    "from sklearn.model_selection import train_test_split\n",
    "\n",
    "# 80%-20% split\n",
    "Xtrain, Xtest, ytrain, ytest = train_test_split(X, y, \n",
    "                                                test_size = 0.2,\n",
    "                                                random_state=12)"
   ]
  },
  {
   "cell_type": "code",
   "execution_count": 59,
   "id": "4f4ca217",
   "metadata": {},
   "outputs": [
    {
     "name": "stdout",
     "output_type": "stream",
     "text": [
      "0.9534883720930233\n",
      "\n",
      "[0 0 0 0 0 1 0 0 1 0 0 0 0 0 0 1 1 0 1 0 1 0 0 0 0 1 1 0 0 0 1 1 0 0 1 1 0\n",
      " 0 0 0 0 0 0 1 0 1 1 1 0 1 0 1 0 0 0 0 0 0 1 1 0 0 1 0 0 1 0 0 0 1 0 0 0 1\n",
      " 1 1 1 0 0 0 0 0 0 1 1 1 1 0 0 1 1 0 1 1 0 1 0 0 1 0 1 0 0 0 0 0 0 0 0 0 1\n",
      " 1 0 1 0 0 1 1 1 0 0 0 0 1 1 0 1 1 0 0 0 0 1 1 0 0 1 1 1 1 0 0 0 0 1 1 1 0\n",
      " 1 1 1 0 1 1 0 0 0 1 1 1 0 0 0 1 0 0 0 1 0 1 1 1]\n",
      "[0 0 0 0 0 1 0 0 1 0 0 0 0 0 0 1 1 0 1 0 1 0 1 0 0 1 1 0 1 0 1 1 0 0 1 1 0\n",
      " 0 0 0 0 0 0 1 0 0 1 1 0 1 0 1 0 0 0 0 0 0 1 1 0 0 1 0 0 1 0 0 0 1 0 0 0 1\n",
      " 1 1 1 1 0 0 0 0 0 1 1 1 1 0 0 1 1 0 1 1 0 1 0 0 1 0 0 0 0 0 0 0 0 0 0 0 1\n",
      " 1 0 1 0 0 1 1 1 0 0 0 0 1 1 0 0 1 1 0 0 0 0 1 0 0 1 1 1 1 0 0 0 0 1 1 1 0\n",
      " 1 1 1 0 1 1 0 0 0 1 1 1 0 0 0 1 0 0 0 1 0 1 1 1]\n"
     ]
    }
   ],
   "source": [
    "#Logistic Regression - Train\n",
    "\n",
    "logregModel.fit(Xtrain, ytrain)\n",
    "\n",
    "#Performance evaluation with the test set\n",
    "ypred = logregModel.predict(Xtest)\n",
    "print(accuracy_score(ytest, ypred))\n",
    "print()\n",
    "print(ytest)\n",
    "print(ypred)"
   ]
  },
  {
   "cell_type": "code",
   "execution_count": 60,
   "id": "e9e1e2b9",
   "metadata": {},
   "outputs": [
    {
     "name": "stdout",
     "output_type": "stream",
     "text": [
      "0.9593023255813954\n",
      "\n",
      "[0 0 0 0 0 1 0 0 1 0 0 0 0 0 0 1 1 0 1 0 1 0 0 0 0 1 1 0 0 0 1 1 0 0 1 1 0\n",
      " 0 0 0 0 0 0 1 0 1 1 1 0 1 0 1 0 0 0 0 0 0 1 1 0 0 1 0 0 1 0 0 0 1 0 0 0 1\n",
      " 1 1 1 0 0 0 0 0 0 1 1 1 1 0 0 1 1 0 1 1 0 1 0 0 1 0 1 0 0 0 0 0 0 0 0 0 1\n",
      " 1 0 1 0 0 1 1 1 0 0 0 0 1 1 0 1 1 0 0 0 0 1 1 0 0 1 1 1 1 0 0 0 0 1 1 1 0\n",
      " 1 1 1 0 1 1 0 0 0 1 1 1 0 0 0 1 0 0 0 1 0 1 1 1]\n",
      "[0 0 0 0 0 1 0 0 1 0 0 0 0 0 0 1 1 0 1 0 1 0 1 0 0 1 1 0 0 0 1 1 0 0 1 1 0\n",
      " 0 0 0 0 0 0 1 0 1 1 1 0 1 0 1 0 0 0 0 0 0 1 1 0 1 1 0 0 1 0 0 0 1 0 0 0 1\n",
      " 1 1 1 1 0 0 0 0 0 1 1 1 1 0 0 1 1 0 1 1 0 1 0 0 1 0 0 0 0 0 0 0 0 0 0 1 1\n",
      " 1 0 1 0 0 1 1 1 0 0 0 0 1 1 0 1 1 1 0 0 0 0 1 0 0 1 1 1 1 0 0 0 0 1 1 1 0\n",
      " 1 1 1 0 1 1 0 0 0 1 1 1 0 0 0 1 0 0 0 1 0 1 1 1]\n"
     ]
    }
   ],
   "source": [
    "#Support Vector Machine - Train\n",
    "\n",
    "svcModel.fit(Xtrain, ytrain)\n",
    "\n",
    "#Performance evaluation with the test set\n",
    "ypred = svcModel.predict(Xtest)\n",
    "print(accuracy_score(ytest, ypred))\n",
    "print()\n",
    "print(ytest)\n",
    "print(ypred)"
   ]
  },
  {
   "cell_type": "markdown",
   "id": "07d4994b",
   "metadata": {},
   "source": [
    "## K-Fold Validation & Cross Validation"
   ]
  },
  {
   "cell_type": "code",
   "execution_count": 61,
   "id": "e77672e4",
   "metadata": {},
   "outputs": [
    {
     "name": "stdout",
     "output_type": "stream",
     "text": [
      "Logistic Regression Scores:  [0.91860465 0.94767442 0.92982456 0.95906433 0.90643275]\n",
      "Logistic Regression Mean and 2 std: 0.93 (+/- 0.04)\n",
      "SVC Scores:  [0.93023256 0.96511628 0.95321637 0.98245614 0.93567251]\n",
      "SVC Mean and 2 std: 0.95 (+/- 0.04)\n"
     ]
    }
   ],
   "source": [
    "#Cross Validation\n",
    "\n",
    "from sklearn.model_selection import cross_val_score\n",
    "crossValScores = cross_val_score(logregModel, X, y, cv = 5)\n",
    "print(\"Logistic Regression Scores: \", crossValScores)\n",
    "print(\"Logistic Regression Mean and 2 std: %0.2f (+/- %0.2f)\"% (crossValScores.mean(), crossValScores.std() * 2))\n",
    "\n",
    "\n",
    "from sklearn.model_selection import cross_val_score\n",
    "crossValScores = cross_val_score(svcModel, X, y, cv = 5)\n",
    "print(\"SVC Scores: \", crossValScores)\n",
    "print(\"SVC Mean and 2 std: %0.2f (+/- %0.2f)\"% (crossValScores.mean(), crossValScores.std() * 2))"
   ]
  },
  {
   "cell_type": "code",
   "execution_count": 62,
   "id": "e5a557ff",
   "metadata": {},
   "outputs": [],
   "source": [
    "# K-Fold Cross Validation\n",
    "from sklearn.model_selection import ShuffleSplit, KFold\n",
    "\n",
    "# Reset the random seed\n",
    "import time\n",
    "np.random.seed(int(time.time()))"
   ]
  },
  {
   "cell_type": "code",
   "execution_count": 63,
   "id": "f11c53ce",
   "metadata": {},
   "outputs": [
    {
     "name": "stdout",
     "output_type": "stream",
     "text": [
      "LOGREG Shuffle Split: \n",
      "[0.92093023 0.92093023 0.93953488 0.92093023 0.93953488]\n",
      "\n",
      "LOGREG Shuffled K-Fold Split: \n",
      "[0.91860465 0.91860465 0.92982456 0.93567251 0.94152047]\n"
     ]
    }
   ],
   "source": [
    "#Logistic Regression Random Splitting and Shuffling\n",
    "\n",
    "# Random Splitting 75-25 5 times:\n",
    "cv = ShuffleSplit(n_splits = 5, test_size = 0.25)\n",
    "print(\"LOGREG Shuffle Split: \")\n",
    "print(cross_val_score(logregModel, X, y, cv=cv))\n",
    "print()\n",
    "\n",
    "# Random shuffling than dividing into 5 folds \n",
    "cv = KFold(n_splits = 5, shuffle = True)\n",
    "print(\"LOGREG Shuffled K-Fold Split: \")\n",
    "print(cross_val_score(logregModel, X, y, cv = cv))"
   ]
  },
  {
   "cell_type": "code",
   "execution_count": 64,
   "id": "0f0f96fd",
   "metadata": {},
   "outputs": [
    {
     "name": "stdout",
     "output_type": "stream",
     "text": [
      "SVC Shuffle Split: \n",
      "[0.94186047 0.94186047 0.94152047 0.92982456 0.96491228]\n",
      "\n",
      "SVC Shuffled K-Fold Split: \n",
      "[0.96511628 0.94767442 0.95906433 0.92397661 0.94152047]\n"
     ]
    }
   ],
   "source": [
    "# Random Splitting 75-25 5 times:\n",
    "cv1 = ShuffleSplit(n_splits = 5, test_size = 0.25)\n",
    "print(\"SVC Shuffle Split: \")\n",
    "print(cross_val_score(svcModel, X, y, cv=cv))\n",
    "print()\n",
    "\n",
    "# Random shuffling than dividing into 5 folds \n",
    "cv1= KFold(n_splits = 5, shuffle = True)\n",
    "print(\"SVC Shuffled K-Fold Split: \")\n",
    "print(cross_val_score(svcModel, X, y, cv = cv))"
   ]
  },
  {
   "cell_type": "code",
   "execution_count": 65,
   "id": "7097afe0",
   "metadata": {},
   "outputs": [
    {
     "name": "stdout",
     "output_type": "stream",
     "text": [
      "LOGREG Stratified Shuffle Split: \n",
      "[0.91627907 0.88837209 0.91162791 0.93023256 0.93023256]\n",
      "LOGREG Stratified K-Fold Split: \n",
      "[0.91860465 0.94186047 0.92397661 0.91812865 0.9122807 ]\n"
     ]
    }
   ],
   "source": [
    "from sklearn.model_selection import StratifiedShuffleSplit, StratifiedKFold\n",
    "\n",
    "# Logistic Regression Stratified Shuffle Split\n",
    "cv = StratifiedShuffleSplit(n_splits = 5, test_size = 0.25)\n",
    "print(\"LOGREG Stratified Shuffle Split: \")\n",
    "print(cross_val_score(logregModel, X, y, cv = cv))\n",
    "\n",
    "cv = StratifiedKFold(n_splits = 5, shuffle = True)\n",
    "print(\"LOGREG Stratified K-Fold Split: \")\n",
    "print(cross_val_score(logregModel, X, y, cv = cv))"
   ]
  },
  {
   "cell_type": "code",
   "execution_count": 66,
   "id": "87ac2315",
   "metadata": {},
   "outputs": [
    {
     "name": "stdout",
     "output_type": "stream",
     "text": [
      "SVC Stratified Shuffle Split: \n",
      "[0.94186047 0.93023256 0.96491228 0.97076023 0.95906433]\n",
      "SVC Stratified K-Fold Split: \n",
      "[0.95930233 0.95348837 0.93567251 0.95906433 0.95321637]\n"
     ]
    }
   ],
   "source": [
    "# Support Vector Machine Stratified Shuffle Split\n",
    "\n",
    "cv1 = StratifiedShuffleSplit(n_splits = 5, test_size = 0.25)\n",
    "print(\"SVC Stratified Shuffle Split: \")\n",
    "print(cross_val_score(svcModel, X, y, cv = cv))\n",
    "\n",
    "cv1 = StratifiedKFold(n_splits = 5, shuffle = True)\n",
    "print(\"SVC Stratified K-Fold Split: \")\n",
    "print(cross_val_score(svcModel, X, y, cv = cv))"
   ]
  },
  {
   "cell_type": "code",
   "execution_count": 67,
   "id": "8b8d56e6",
   "metadata": {},
   "outputs": [
    {
     "name": "stdout",
     "output_type": "stream",
     "text": [
      "0.9299883313885647\n",
      "0.9603267211201867\n"
     ]
    }
   ],
   "source": [
    "from sklearn.model_selection import LeaveOneOut\n",
    "cv = LeaveOneOut()\n",
    "scores = cross_val_score(logregModel, X, y, cv = cv)\n",
    "print(scores.mean())\n",
    "\n",
    "scores = cross_val_score(svcModel, X, y, cv = cv)\n",
    "print(scores.mean())"
   ]
  },
  {
   "cell_type": "markdown",
   "id": "e33ce63a",
   "metadata": {},
   "source": [
    "##  Hyperparameter Selection"
   ]
  },
  {
   "cell_type": "code",
   "execution_count": 68,
   "id": "8d0e8ebe",
   "metadata": {},
   "outputs": [
    {
     "name": "stderr",
     "output_type": "stream",
     "text": [
      "/Users/ideakadikoy/Desktop/anaconda3/lib/python3.8/site-packages/sklearn/linear_model/_sag.py:328: ConvergenceWarning: The max_iter was reached which means the coef_ did not converge\n",
      "  warnings.warn(\"The max_iter was reached which means \"\n",
      "/Users/ideakadikoy/Desktop/anaconda3/lib/python3.8/site-packages/sklearn/linear_model/_sag.py:328: ConvergenceWarning: The max_iter was reached which means the coef_ did not converge\n",
      "  warnings.warn(\"The max_iter was reached which means \"\n",
      "/Users/ideakadikoy/Desktop/anaconda3/lib/python3.8/site-packages/sklearn/linear_model/_sag.py:328: ConvergenceWarning: The max_iter was reached which means the coef_ did not converge\n",
      "  warnings.warn(\"The max_iter was reached which means \"\n",
      "/Users/ideakadikoy/Desktop/anaconda3/lib/python3.8/site-packages/sklearn/linear_model/_sag.py:328: ConvergenceWarning: The max_iter was reached which means the coef_ did not converge\n",
      "  warnings.warn(\"The max_iter was reached which means \"\n",
      "/Users/ideakadikoy/Desktop/anaconda3/lib/python3.8/site-packages/sklearn/linear_model/_sag.py:328: ConvergenceWarning: The max_iter was reached which means the coef_ did not converge\n",
      "  warnings.warn(\"The max_iter was reached which means \"\n"
     ]
    },
    {
     "name": "stdout",
     "output_type": "stream",
     "text": [
      "{'C': 5.0, 'solver': 'sag'}\n",
      "LOGREGBest C: 5.0\n",
      "LOGREG Best solver: sag\n"
     ]
    },
    {
     "name": "stderr",
     "output_type": "stream",
     "text": [
      "/Users/ideakadikoy/Desktop/anaconda3/lib/python3.8/site-packages/sklearn/linear_model/_sag.py:328: ConvergenceWarning: The max_iter was reached which means the coef_ did not converge\n",
      "  warnings.warn(\"The max_iter was reached which means \"\n"
     ]
    }
   ],
   "source": [
    "from sklearn.model_selection import GridSearchCV\n",
    "from scipy.stats import uniform as sp_uniform\n",
    "from sklearn.metrics import accuracy_score, auc\n",
    "\n",
    "np.random.seed(int(time.time()))\n",
    "\n",
    "cv = StratifiedKFold(n_splits = 5, shuffle = True)\n",
    "\n",
    "paramsToTest_logreg = {\"C\": [0.1, 0.5, 1.0, 2.5, 5.0],\n",
    "                \"solver\": [\"sag\", \"lbfgs\"]}\n",
    "                \n",
    "\n",
    "gscv = GridSearchCV(LogisticRegression(multi_class = \"auto\",  \n",
    "                                       max_iter = 50), \n",
    "                    paramsToTest_logreg, cv = cv, return_train_score = True)\n",
    "\n",
    "\n",
    "gscv.fit(X, y)\n",
    "\n",
    "print(gscv.best_params_)\n",
    "print(\"LOGREGBest C:\", gscv.best_estimator_.C)\n",
    "print(\"LOGREG Best solver:\", gscv.best_estimator_.solver)"
   ]
  },
  {
   "cell_type": "code",
   "execution_count": 69,
   "id": "8e9ff79c",
   "metadata": {},
   "outputs": [
    {
     "name": "stdout",
     "output_type": "stream",
     "text": [
      "{'degree': 1, 'kernel': 'poly'}\n",
      "SVC Best C: poly\n",
      "SVC Best solver: 1\n"
     ]
    }
   ],
   "source": [
    "from sklearn.model_selection import GridSearchCV\n",
    "\n",
    "np.random.seed(int(time.time()))\n",
    "\n",
    "cv = StratifiedKFold(n_splits = 5, shuffle = True)\n",
    "\n",
    "paramsToTest_SVC= {\"kernel\": [\"poly\", \"rbf\", \"linear\"],\n",
    "                \"degree\": [1, 2, 3, 4, 5]}\n",
    "\n",
    "gscv1 = GridSearchCV(SVC(gamma = \"scale\"),\n",
    "                              paramsToTest_SVC, \n",
    "                              cv = cv,\n",
    "                              return_train_score = True)\n",
    "\n",
    "gscv1.fit(X, y)\n",
    "print(gscv1.best_params_)\n",
    "print(\"SVC Best C:\", gscv1.best_estimator_.kernel)\n",
    "print(\"SVC Best solver:\", gscv1.best_estimator_.degree)"
   ]
  },
  {
   "cell_type": "markdown",
   "id": "47d9c22a",
   "metadata": {},
   "source": [
    "## Model Evulation"
   ]
  },
  {
   "cell_type": "code",
   "execution_count": 73,
   "id": "190ab573",
   "metadata": {},
   "outputs": [
    {
     "name": "stdout",
     "output_type": "stream",
     "text": [
      "Kernel: linear\n",
      "C: 10\n",
      "Accuracy: 0.9593023255813954\n"
     ]
    }
   ],
   "source": [
    "from sklearn.model_selection import RandomizedSearchCV, GridSearchCV, StratifiedKFold\n",
    "\n",
    "Xtrain, Xtest, ytrain, ytest = train_test_split(X, y, test_size = 0.2, stratify = y)\n",
    "\n",
    "cv1= KFold(n_splits = 5, shuffle = True)\n",
    " \n",
    "    \n",
    "paramsToTest = {\"C\": [0.001, 0.01, 0.1, 1, 10, 25],\n",
    "              \"kernel\": [\"poly\", \"rbf\", \"linear\"],\n",
    "              \"gamma\": [\"scale\",\"auto\"],\n",
    "              \"degree\": [1, 2, 3, 4, 5]}\n",
    "\n",
    "rscv = RandomizedSearchCV(SVC(gamma = \"scale\"), paramsToTest, \n",
    "                          cv = cv, n_iter = 50, return_train_score = True)\n",
    "\n",
    "rscv.fit(Xtrain, ytrain)\n",
    "ypred = rscv.predict(Xtest)\n",
    "\n",
    "print(\"Kernel:\", rscv.best_estimator_.kernel)\n",
    "print(\"C:\", rscv.best_estimator_.C)\n",
    "print(\"Accuracy:\", accuracy_score(ytest, ypred))"
   ]
  },
  {
   "cell_type": "code",
   "execution_count": 74,
   "id": "c2de129a",
   "metadata": {},
   "outputs": [
    {
     "name": "stdout",
     "output_type": "stream",
     "text": [
      "              precision    recall  f1-score   support\n",
      "\n",
      "           0       0.97      0.96      0.96        96\n",
      "           1       0.95      0.96      0.95        76\n",
      "\n",
      "    accuracy                           0.96       172\n",
      "   macro avg       0.96      0.96      0.96       172\n",
      "weighted avg       0.96      0.96      0.96       172\n",
      "\n"
     ]
    }
   ],
   "source": [
    "from sklearn.metrics import classification_report\n",
    "\n",
    "print(classification_report(ytest,ypred))"
   ]
  },
  {
   "cell_type": "code",
   "execution_count": 78,
   "id": "e4b5ef96",
   "metadata": {},
   "outputs": [
    {
     "data": {
      "image/png": "[encoded data removed]",
      "text/plain": [
       "<Figure size 1500x1000 with 1 Axes>"
      ]
     },
     "metadata": {},
     "output_type": "display_data"
    }
   ],
   "source": [
    "from sklearn.metrics import confusion_matrix\n",
    "\n",
    "mat = confusion_matrix(ytest, ypred)\n",
    "plt.figure(figsize = (12, 8))\n",
    "sns.heatmap(mat, square = True, annot = True, fmt = \"d\", cbar = False,\n",
    "            xticklabels = data[\"target_names\"], yticklabels = data[\"target_names\"])\n",
    "plt.xlabel(\"Predicted\")\n",
    "plt.ylabel(\"True\")\n",
    "plt.show()"
   ]
  },
  {
   "cell_type": "code",
   "execution_count": 76,
   "id": "0bc68610",
   "metadata": {},
   "outputs": [
    {
     "data": {
      "text/plain": [
       "array([[92,  4],\n",
       "       [ 3, 73]])"
      ]
     },
     "execution_count": 76,
     "metadata": {},
     "output_type": "execute_result"
    }
   ],
   "source": [
    "mat"
   ]
  },
  {
   "cell_type": "code",
   "execution_count": 80,
   "id": "a9cd875d",
   "metadata": {},
   "outputs": [
    {
     "name": "stdout",
     "output_type": "stream",
     "text": [
      "SVM Test Performance:0.959\n"
     ]
    }
   ],
   "source": [
    "# Test Set Performance\n",
    "print(f\"SVM Test Performance:{rscv.score(Xtest,ytest):.3f}\")"
   ]
  },
  {
   "cell_type": "code",
   "execution_count": null,
   "id": "a5f2e179",
   "metadata": {},
   "outputs": [],
   "source": []
  }
 ],
 "metadata": {
  "kernelspec": {
   "display_name": "Python 3",
   "language": "python",
   "name": "python3"
  },
  "language_info": {
   "codemirror_mode": {
    "name": "ipython",
    "version": 3
   },
   "file_extension": ".py",
   "mimetype": "text/x-python",
   "name": "python",
   "nbconvert_exporter": "python",
   "pygments_lexer": "ipython3",
   "version": "3.8.2"
  }
 },
 "nbformat": 4,
 "nbformat_minor": 5
}
